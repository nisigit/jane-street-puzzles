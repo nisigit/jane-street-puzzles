{
 "cells": [
  {
   "cell_type": "code",
   "execution_count": 1,
   "metadata": {},
   "outputs": [],
   "source": [
    "import pandas as pd"
   ]
  },
  {
   "cell_type": "code",
   "execution_count": 2,
   "metadata": {},
   "outputs": [],
   "source": [
    "state_pops = pd.read_csv('./states_population.csv')\n",
    "state_pops['NAME'] = state_pops['NAME'].str.lower()\n",
    "state_pops['NAME'] = state_pops['NAME'].str.replace(' ', '')"
   ]
  },
  {
   "cell_type": "code",
   "execution_count": 3,
   "metadata": {},
   "outputs": [
    {
     "data": {
      "text/html": [
       "<div>\n",
       "<style scoped>\n",
       "    .dataframe tbody tr th:only-of-type {\n",
       "        vertical-align: middle;\n",
       "    }\n",
       "\n",
       "    .dataframe tbody tr th {\n",
       "        vertical-align: top;\n",
       "    }\n",
       "\n",
       "    .dataframe thead th {\n",
       "        text-align: right;\n",
       "    }\n",
       "</style>\n",
       "<table border=\"1\" class=\"dataframe\">\n",
       "  <thead>\n",
       "    <tr style=\"text-align: right;\">\n",
       "      <th></th>\n",
       "      <th>NAME</th>\n",
       "      <th>POPULATION</th>\n",
       "    </tr>\n",
       "  </thead>\n",
       "  <tbody>\n",
       "    <tr>\n",
       "      <th>0</th>\n",
       "      <td>alabama</td>\n",
       "      <td>5024279</td>\n",
       "    </tr>\n",
       "    <tr>\n",
       "      <th>1</th>\n",
       "      <td>alaska</td>\n",
       "      <td>733391</td>\n",
       "    </tr>\n",
       "    <tr>\n",
       "      <th>2</th>\n",
       "      <td>arizona</td>\n",
       "      <td>7151502</td>\n",
       "    </tr>\n",
       "    <tr>\n",
       "      <th>3</th>\n",
       "      <td>arkansas</td>\n",
       "      <td>3011524</td>\n",
       "    </tr>\n",
       "    <tr>\n",
       "      <th>4</th>\n",
       "      <td>california</td>\n",
       "      <td>39538223</td>\n",
       "    </tr>\n",
       "  </tbody>\n",
       "</table>\n",
       "</div>"
      ],
      "text/plain": [
       "         NAME  POPULATION\n",
       "0     alabama     5024279\n",
       "1      alaska      733391\n",
       "2     arizona     7151502\n",
       "3    arkansas     3011524\n",
       "4  california    39538223"
      ]
     },
     "execution_count": 3,
     "metadata": {},
     "output_type": "execute_result"
    }
   ],
   "source": [
    "state_pops.head()"
   ]
  },
  {
   "cell_type": "code",
   "execution_count": 4,
   "metadata": {},
   "outputs": [],
   "source": [
    "pop_dict = {state: pop for state, pop in zip(state_pops['NAME'], state_pops['POPULATION'])}\n",
    "del state_pops"
   ]
  },
  {
   "cell_type": "code",
   "execution_count": 5,
   "metadata": {},
   "outputs": [],
   "source": [
    "spelling_dict = dict()\n",
    "valid_subsets = dict()\n",
    "\n",
    "for state_name in pop_dict.keys():\n",
    "    valid_subsets[state_name] = set()\n",
    "    # replacing each character with any other alphabet character\n",
    "    for i in range(len(state_name)):\n",
    "        for c in 'abcdefghijklmnopqrstuvwxyz':\n",
    "            altered_name = state_name[:i] + c + state_name[i+1:]\n",
    "            spelling_dict[altered_name] = state_name\n",
    "            \n",
    "            for j in range(1, len(altered_name) + 1):\n",
    "                valid_subsets[state_name].add(altered_name[:j])"
   ]
  },
  {
   "cell_type": "code",
   "execution_count": 6,
   "metadata": {},
   "outputs": [],
   "source": [
    "single_dict = dict()\n",
    "double_dict = dict()\n",
    "triple_dict = dict()\n",
    "quad_dict = dict()\n",
    "\n",
    "for state in pop_dict.keys():\n",
    "    for i in range(len(state)):\n",
    "        # Single character sequences\n",
    "        single = state[i]\n",
    "        single_dict[single] = single_dict.get(single, 0) + 1\n",
    "\n",
    "        # Double character sequences\n",
    "        if i < len(state) - 1:\n",
    "            double = state[i:i+2]\n",
    "            double_dict[double] = double_dict.get(double, 0) + 1\n",
    "\n",
    "        # Triple character sequences\n",
    "        if i < len(state) - 2:\n",
    "            triple = state[i:i+3]\n",
    "            triple_dict[triple] = triple_dict.get(triple, 0) + 1\n",
    "\n",
    "        # Quadruple character sequences\n",
    "        if i < len(state) - 3:\n",
    "            quad = state[i:i+4]\n",
    "            quad_dict[quad] = quad_dict.get(quad, 0) + 1"
   ]
  },
  {
   "cell_type": "code",
   "execution_count": 7,
   "metadata": {},
   "outputs": [],
   "source": [
    "def is_valid_subset(curr_str, covered):\n",
    "    for state, subsets in valid_subsets.items():\n",
    "        if curr_str in subsets and state not in covered:\n",
    "            return True\n",
    "        \n",
    "    return False\n",
    "\n",
    "def get_valid_moves(grid, curr_str, i, j, covered):\n",
    "    dirs = [(1, 1), (1, -1), (-1, 1), (-1, -1), (1, 0), (-1, 0), (0, 1), (0, -1)]\n",
    "    moves = [(i + i_, j + j_) for i_, j_ in dirs if 0 <= i + i_ < len(grid) and 0 <= j + j_ < len(grid[0])]\n",
    "    return [(i, j) for i, j in moves if is_valid_subset(curr_str + grid[i][j], covered)]\n",
    "\n",
    "def get_names(grid, i, j, covered):\n",
    "    \n",
    "    def dfs(curr_i, curr_j, curr_str):\n",
    "        if curr_str in spelling_dict:\n",
    "            covered.add(spelling_dict[curr_str])\n",
    "            return\n",
    "\n",
    "        valid_moves = get_valid_moves(grid, curr_str, curr_i, curr_j, covered)\n",
    "        for next_i, next_j in valid_moves:\n",
    "            dfs(next_i, next_j, curr_str + grid[next_i][next_j])\n",
    "            \n",
    "    dfs(i, j, grid[i][j])\n",
    "    return covered\n",
    "\n",
    "def get_score(grid):\n",
    "    covered = set()\n",
    "    score = 0\n",
    "    for i in range(len(grid)):\n",
    "        for j in range(len(grid[0])):\n",
    "            covered = get_names(grid, i, j, covered)\n",
    "            \n",
    "    for state in covered:\n",
    "        score += pop_dict[state]\n",
    "        \n",
    "    return score, covered"
   ]
  },
  {
   "cell_type": "code",
   "execution_count": 8,
   "metadata": {},
   "outputs": [
    {
     "name": "stdout",
     "output_type": "stream",
     "text": [
      "[('in', 11), ('ne', 10), ('an', 9), ('or', 8), ('as', 7), ('on', 7), ('ia', 7), ('is', 7), ('la', 6), ('ar', 6), ('na', 6), ('ma', 5), ('da', 5), ('ss', 5), ('mi', 5), ('ta', 5), ('ka', 4), ('ns', 4), ('li', 4), ('ni', 4), ('co', 4), ('nn', 4), ('ut', 4), ('wa', 4), ('ou', 4), ('si', 4), ('hi', 4), ('so', 4), ('ew', 4), ('th', 4), ('al', 3), ('ri', 3), ('sa', 3), ('ca', 3), ('ol', 3), ('lo', 3), ('ic', 3), ('re', 3), ('rg', 3), ('gi', 3), ('ah', 3), ('ho', 3), ('no', 3), ('nd', 3), ('en', 3), ('nt', 3), ('se', 3), ('es', 3), ('ot', 3), ('ir', 3), ('am', 2), ('sk', 2), ('rk', 2), ('ra', 2), ('ad', 2), ('de', 2), ('aw', 2), ('id', 2), ('ha', 2), ('ai', 2), ('io', 2), ('yl', 2), ('ch', 2), ('mo', 2), ('va', 2), ('sh', 2), ('er', 2), ('ex', 2), ('wy', 2), ('yo', 2), ('rt', 2), ('hc', 2), ('ro', 2), ('hd', 2), ('ak', 2), ('ko', 2), ('om', 2), ('te', 2), ('vi', 2), ('ng', 2), ('ab', 1), ('ba', 1), ('iz', 1), ('zo', 1), ('if', 1), ('fo', 1), ('rn', 1), ('do', 1), ('ec', 1), ('ct', 1), ('ti', 1), ('cu', 1), ('el', 1), ('fl', 1), ('ge', 1), ('eo', 1), ('ii', 1), ('il', 1), ('ll', 1), ('oi', 1), ('di', 1), ('ow', 1), ('ke', 1), ('tu', 1), ('uc', 1), ('ck', 1), ('ky', 1), ('ui', 1), ('ry', 1), ('ac', 1), ('hu', 1), ('us', 1), ('et', 1), ('tt', 1), ('ts', 1), ('ig', 1), ('ga', 1), ('ip', 1), ('pp', 1), ('pi', 1), ('ur', 1), ('eb', 1), ('br', 1), ('ev', 1), ('wh', 1), ('mp', 1), ('ps', 1), ('wj', 1), ('je', 1), ('rs', 1), ('ey', 1), ('wm', 1), ('me', 1), ('xi', 1), ('oh', 1), ('ok', 1), ('kl', 1), ('eg', 1), ('go', 1), ('pe', 1), ('sy', 1), ('lv', 1), ('rh', 1), ('od', 1), ('ei', 1), ('sl', 1), ('ee', 1), ('xa', 1), ('ve', 1), ('rm', 1), ('gt', 1), ('to', 1), ('we', 1), ('st', 1), ('tv', 1), ('wi', 1), ('sc', 1)]\n"
     ]
    }
   ],
   "source": [
    "print(sorted(double_dict.items(), key=lambda x: x[1], reverse=True))"
   ]
  },
  {
   "cell_type": "code",
   "execution_count": 9,
   "metadata": {},
   "outputs": [
    {
     "name": "stdout",
     "output_type": "stream",
     "text": [
      "[('la', 6), ('li', 4), ('al', 3), ('ol', 3), ('lo', 3), ('yl', 2), ('el', 1), ('fl', 1), ('il', 1), ('ll', 1), ('kl', 1), ('lv', 1), ('sl', 1)]\n"
     ]
    }
   ],
   "source": [
    "print(sorted([(k, v) for k, v in double_dict.items() if 'l' in k], key=lambda x: x[1], reverse=True))"
   ]
  },
  {
   "cell_type": "code",
   "execution_count": 10,
   "metadata": {},
   "outputs": [
    {
     "name": "stdout",
     "output_type": "stream",
     "text": [
      "[('nia', 4), ('new', 4), ('nne', 3), ('rgi', 3), ('lin', 3), ('ana', 3), ('ota', 3), ('iss', 3), ('sou', 3), ('ala', 2), ('ask', 2), ('ska', 2), ('kan', 2), ('ans', 2), ('nsa', 2), ('sas', 2), ('lor', 2), ('con', 2), ('awa', 2), ('ida', 2), ('aho', 2), ('ian', 2), ('lan', 2), ('and', 2), ('min', 2), ('nes', 2), ('mis', 2), ('ssi', 2), ('mon', 2), ('ont', 2), ('shi', 2), ('wyo', 2), ('nor', 2), ('ort', 2), ('rth', 2), ('thc', 2), ('hca', 2), ('car', 2), ('aro', 2), ('rol', 2), ('oli', 2), ('ina', 2), ('thd', 2), ('hda', 2), ('dak', 2), ('ako', 2), ('kot', 2), ('enn', 2), ('out', 2), ('uth', 2), ('vir', 2), ('irg', 2), ('gin', 2), ('ini', 2), ('ing', 2), ('lab', 1), ('aba', 1), ('bam', 1), ('ama', 1), ('las', 1), ('ari', 1), ('riz', 1), ('izo', 1), ('zon', 1), ('ona', 1), ('ark', 1), ('rka', 1), ('cal', 1), ('ali', 1), ('lif', 1), ('ifo', 1), ('for', 1), ('orn', 1), ('rni', 1), ('col', 1), ('olo', 1), ('ora', 1), ('rad', 1), ('ado', 1), ('onn', 1), ('nec', 1), ('ect', 1), ('cti', 1), ('tic', 1), ('icu', 1), ('cut', 1), ('del', 1), ('ela', 1), ('law', 1), ('war', 1), ('are', 1), ('flo', 1), ('ori', 1), ('rid', 1), ('geo', 1), ('eor', 1), ('org', 1), ('gia', 1), ('haw', 1), ('wai', 1), ('aii', 1), ('dah', 1), ('ill', 1), ('lli', 1), ('ino', 1), ('noi', 1), ('ois', 1), ('ind', 1), ('ndi', 1), ('dia', 1), ('iow', 1), ('owa', 1), ('ken', 1), ('ent', 1), ('ntu', 1), ('tuc', 1), ('uck', 1), ('cky', 1), ('lou', 1), ('oui', 1), ('uis', 1), ('isi', 1), ('sia', 1), ('mai', 1), ('ain', 1), ('ine', 1), ('mar', 1), ('ary', 1), ('ryl', 1), ('yla', 1), ('mas', 1), ('ass', 1), ('ssa', 1), ('sac', 1), ('ach', 1), ('chu', 1), ('hus', 1), ('use', 1), ('set', 1), ('ett', 1), ('tts', 1), ('mic', 1), ('ich', 1), ('chi', 1), ('hig', 1), ('iga', 1), ('gan', 1), ('inn', 1), ('eso', 1), ('sot', 1), ('sis', 1), ('sip', 1), ('ipp', 1), ('ppi', 1), ('sso', 1), ('our', 1), ('uri', 1), ('nta', 1), ('tan', 1), ('neb', 1), ('ebr', 1), ('bra', 1), ('ras', 1), ('nev', 1), ('eva', 1), ('vad', 1), ('ada', 1), ('ewh', 1), ('wha', 1), ('ham', 1), ('amp', 1), ('mps', 1), ('psh', 1), ('hir', 1), ('ire', 1), ('ewj', 1), ('wje', 1), ('jer', 1), ('ers', 1), ('rse', 1), ('sey', 1), ('ewm', 1), ('wme', 1), ('mex', 1), ('exi', 1), ('xic', 1), ('ico', 1), ('ewy', 1), ('yor', 1), ('ork', 1), ('ohi', 1), ('hio', 1), ('okl', 1), ('kla', 1), ('lah', 1), ('hom', 1), ('oma', 1), ('ore', 1), ('reg', 1), ('ego', 1), ('gon', 1), ('pen', 1), ('nns', 1), ('nsy', 1), ('syl', 1), ('ylv', 1), ('lva', 1), ('van', 1), ('ani', 1), ('rho', 1), ('hod', 1), ('ode', 1), ('dei', 1), ('eis', 1), ('isl', 1), ('sla', 1), ('ten', 1), ('ess', 1), ('sse', 1), ('see', 1), ('tex', 1), ('exa', 1), ('xas', 1), ('uta', 1), ('tah', 1), ('ver', 1), ('erm', 1), ('rmo', 1), ('was', 1), ('ash', 1), ('hin', 1), ('ngt', 1), ('gto', 1), ('ton', 1), ('wes', 1), ('est', 1), ('stv', 1), ('tvi', 1), ('wis', 1), ('isc', 1), ('sco', 1), ('ons', 1), ('nsi', 1), ('sin', 1), ('yom', 1), ('omi', 1)]\n"
     ]
    }
   ],
   "source": [
    "print(sorted(triple_dict.items(), key=lambda x: x[1], reverse=True))"
   ]
  },
  {
   "cell_type": "code",
   "execution_count": 11,
   "metadata": {},
   "outputs": [
    {
     "name": "stdout",
     "output_type": "stream",
     "text": [
      "[('a', 61), ('i', 44), ('n', 43), ('o', 36), ('s', 32), ('e', 28), ('r', 22), ('t', 19), ('l', 15), ('h', 15), ('m', 14), ('c', 12), ('d', 11), ('w', 11), ('k', 10), ('u', 8), ('g', 8), ('y', 6), ('v', 5), ('p', 4), ('b', 2), ('f', 2), ('x', 2), ('z', 1), ('j', 1)]\n"
     ]
    }
   ],
   "source": [
    "print(sorted(single_dict.items(), key=lambda x: x[1], reverse=True))"
   ]
  },
  {
   "cell_type": "code",
   "execution_count": 12,
   "metadata": {},
   "outputs": [
    {
     "name": "stdout",
     "output_type": "stream",
     "text": [
      "[('california', 39538223), ('texas', 29145505), ('florida', 21538187), ('newyork', 20201249), ('pennsylvania', 13002700), ('illinois', 12812508), ('ohio', 11799448), ('georgia', 10711908), ('northcarolina', 10439388), ('michigan', 10077331), ('newjersey', 9288994), ('virginia', 8631393), ('washington', 7693612), ('arizona', 7151502), ('massachusetts', 7029917), ('tennessee', 6910840), ('indiana', 6785528), ('maryland', 6177224), ('missouri', 6154913), ('wisconsin', 5893718), ('colorado', 5773714), ('minnesota', 5706494), ('southcarolina', 5118425), ('alabama', 5024279), ('louisiana', 4657757), ('kentucky', 4505836), ('oregon', 4237256), ('oklahoma', 3959353), ('connecticut', 3605944), ('utah', 3271616), ('iowa', 3190369), ('nevada', 3104614), ('arkansas', 3011524), ('mississippi', 2961279), ('kansas', 2937880), ('newmexico', 2117522), ('nebraska', 1961504), ('idaho', 1839106), ('westvirginia', 1793716), ('hawaii', 1455271), ('newhampshire', 1377529), ('maine', 1362359), ('rhodeisland', 1097379), ('montana', 1084225), ('delaware', 989948), ('southdakota', 886667), ('northdakota', 779094), ('alaska', 733391), ('vermont', 643077), ('wyoming', 576851)]\n"
     ]
    }
   ],
   "source": [
    "print(sorted(pop_dict.items(), key=lambda x: x[1], reverse=True))"
   ]
  },
  {
   "cell_type": "code",
   "execution_count": 14,
   "metadata": {},
   "outputs": [
    {
     "name": "stdout",
     "output_type": "stream",
     "text": [
      "154,600,211\n"
     ]
    },
    {
     "data": {
      "text/plain": [
       "(None,\n",
       " {'alabama',\n",
       "  'alaska',\n",
       "  'arizona',\n",
       "  'arkansas',\n",
       "  'florida',\n",
       "  'georgia',\n",
       "  'idaho',\n",
       "  'illinois',\n",
       "  'indiana',\n",
       "  'iowa',\n",
       "  'kansas',\n",
       "  'louisiana',\n",
       "  'maine',\n",
       "  'montana',\n",
       "  'nevada',\n",
       "  'newyork',\n",
       "  'ohio',\n",
       "  'oregon',\n",
       "  'texas',\n",
       "  'utah'},\n",
       " 20)"
      ]
     },
     "execution_count": 14,
     "metadata": {},
     "output_type": "execute_result"
    }
   ],
   "source": [
    "grid = [['p', 'd', 's', 'm', 'a'],\n",
    "        ['e', 'a', 'i', 'l', 'k'],\n",
    "        ['a', 'n', 'o', 'r', 'a'],\n",
    "        ['t', 'e', 'y', 'r', 's'],\n",
    "        ['u', 'g', 'w', 'j', 'e']]\n",
    "        \n",
    "score1, states1 = get_score(grid)\n",
    "        \n",
    "grid = [['p', 'd', 's', 'm', 'a'],\n",
    "        ['e', 'a', 'i', 'r', 'k'],\n",
    "        ['a', 'n', 'o', 'l', 'a'],\n",
    "        ['t', 'e', 'e', 'r', 's'],\n",
    "        ['u', 'g', 'w', 'm', 'y']]\n",
    "\n",
    "score, states = get_score(grid)\n",
    "print(f'{score:,}'), states, len(states)"
   ]
  },
  {
   "cell_type": "code",
   "execution_count": 16,
   "metadata": {},
   "outputs": [],
   "source": [
    "grid = [['p', 'd', 's', 'm', 'a'],\n",
    "        ['e', 'a', 'i', 'r', 'k'],\n",
    "        ['a', 'n', 'o', 'l', 'a'],\n",
    "        ['t', 'e', 'e', 'r', 's'],\n",
    "        ['u', 'g', 'w', 'm', 'y']]"
   ]
  },
  {
   "cell_type": "code",
   "execution_count": 28,
   "metadata": {},
   "outputs": [],
   "source": [
    "grid = [['p', 'd', 's', 'm', 'a'],\n",
    "        ['e', 'a', 'i', 'r', 'k'],\n",
    "        ['a', 'n', 'o', 'l', 'a'],\n",
    "        ['t', 'e', 'r', 'c', 's'],\n",
    "        ['u', 'g', 'w', 'm', 'y']]\n",
    "\n",
    "max_score = 0\n",
    "max_grid = None\n",
    "max_non_cali_grid = None\n",
    "\n",
    "test_points = [(0, 0), (4, 3), ]"
   ]
  },
  {
   "cell_type": "code",
   "execution_count": 64,
   "metadata": {},
   "outputs": [
    {
     "name": "stdout",
     "output_type": "stream",
     "text": [
      "205,995,695\n"
     ]
    },
    {
     "data": {
      "text/plain": [
       "(None,\n",
       " {'alabama',\n",
       "  'alaska',\n",
       "  'arizona',\n",
       "  'arkansas',\n",
       "  'california',\n",
       "  'colorado',\n",
       "  'florida',\n",
       "  'georgia',\n",
       "  'idaho',\n",
       "  'illinois',\n",
       "  'indiana',\n",
       "  'iowa',\n",
       "  'kansas',\n",
       "  'louisiana',\n",
       "  'maine',\n",
       "  'nevada',\n",
       "  'newyork',\n",
       "  'northcarolina',\n",
       "  'ohio',\n",
       "  'oregon',\n",
       "  'texas'},\n",
       " 21,\n",
       " {'montana', 'utah'})"
      ]
     },
     "execution_count": 64,
     "metadata": {},
     "output_type": "execute_result"
    }
   ],
   "source": [
    "max_grid = [['p', 'd', 's', 'm', 'a'],\n",
    "            ['e', 'a', 'i', 'r', 'k'],\n",
    "            ['a', 'n', 'o', 'l', 'a'],\n",
    "            ['t', 'e', 'r', 'c', 's'],\n",
    "            ['u', 'w', 'g', 'm', 'y']]\n",
    "\n",
    "max_grid = [['p', 'd', 's', 'm', 'a'],\n",
    "            ['e', 'a', 'i', 'r', 'k'],\n",
    "            ['a', 'n', 'o', 'l', 'a'],\n",
    "            ['w', 'e', 'r', 'c', 's'],\n",
    "            ['u', 't', 'g', 'm', 'y']]\n",
    "\n",
    "score, new_states = get_score(max_grid)\n",
    "diff = states - new_states\n",
    "states = new_states\n",
    "\n",
    "print(f'{score:,}'), states, len(states), diff"
   ]
  },
  {
   "cell_type": "code",
   "execution_count": 62,
   "metadata": {},
   "outputs": [
    {
     "name": "stdout",
     "output_type": "stream",
     "text": [
      "{'newmexico'}\n"
     ]
    }
   ],
   "source": [
    "c4 = {'utah', 'nevada', 'newmexico', 'arizona'}\n",
    "\n",
    "print(c4 - states)"
   ]
  },
  {
   "cell_type": "code",
   "execution_count": null,
   "metadata": {},
   "outputs": [],
   "source": []
  }
 ],
 "metadata": {
  "kernelspec": {
   "display_name": "Python 3",
   "language": "python",
   "name": "python3"
  },
  "language_info": {
   "codemirror_mode": {
    "name": "ipython",
    "version": 3
   },
   "file_extension": ".py",
   "mimetype": "text/x-python",
   "name": "python",
   "nbconvert_exporter": "python",
   "pygments_lexer": "ipython3",
   "version": "3.7.0"
  }
 },
 "nbformat": 4,
 "nbformat_minor": 2
}
