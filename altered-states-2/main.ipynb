{
 "cells": [
  {
   "cell_type": "code",
   "execution_count": 2,
   "metadata": {},
   "outputs": [],
   "source": [
    "import pandas as pd"
   ]
  },
  {
   "cell_type": "code",
   "execution_count": 3,
   "metadata": {},
   "outputs": [],
   "source": [
    "state_pops = pd.read_csv('./states_population.csv')\n",
    "state_pops['NAME'] = state_pops['NAME'].str.lower()\n",
    "state_pops['NAME'] = state_pops['NAME'].str.replace(' ', '')"
   ]
  },
  {
   "cell_type": "code",
   "execution_count": 4,
   "metadata": {},
   "outputs": [
    {
     "data": {
      "text/html": [
       "<div>\n",
       "<style scoped>\n",
       "    .dataframe tbody tr th:only-of-type {\n",
       "        vertical-align: middle;\n",
       "    }\n",
       "\n",
       "    .dataframe tbody tr th {\n",
       "        vertical-align: top;\n",
       "    }\n",
       "\n",
       "    .dataframe thead th {\n",
       "        text-align: right;\n",
       "    }\n",
       "</style>\n",
       "<table border=\"1\" class=\"dataframe\">\n",
       "  <thead>\n",
       "    <tr style=\"text-align: right;\">\n",
       "      <th></th>\n",
       "      <th>NAME</th>\n",
       "      <th>POPESTIMATE2020</th>\n",
       "    </tr>\n",
       "  </thead>\n",
       "  <tbody>\n",
       "    <tr>\n",
       "      <th>0</th>\n",
       "      <td>alabama</td>\n",
       "      <td>5024803</td>\n",
       "    </tr>\n",
       "    <tr>\n",
       "      <th>1</th>\n",
       "      <td>alaska</td>\n",
       "      <td>732441</td>\n",
       "    </tr>\n",
       "    <tr>\n",
       "      <th>2</th>\n",
       "      <td>arizona</td>\n",
       "      <td>7177986</td>\n",
       "    </tr>\n",
       "    <tr>\n",
       "      <th>3</th>\n",
       "      <td>arkansas</td>\n",
       "      <td>3012232</td>\n",
       "    </tr>\n",
       "    <tr>\n",
       "      <th>4</th>\n",
       "      <td>california</td>\n",
       "      <td>39499738</td>\n",
       "    </tr>\n",
       "    <tr>\n",
       "      <th>5</th>\n",
       "      <td>colorado</td>\n",
       "      <td>5784308</td>\n",
       "    </tr>\n",
       "    <tr>\n",
       "      <th>6</th>\n",
       "      <td>connecticut</td>\n",
       "      <td>3600260</td>\n",
       "    </tr>\n",
       "    <tr>\n",
       "      <th>7</th>\n",
       "      <td>delaware</td>\n",
       "      <td>991886</td>\n",
       "    </tr>\n",
       "    <tr>\n",
       "      <th>8</th>\n",
       "      <td>florida</td>\n",
       "      <td>21569932</td>\n",
       "    </tr>\n",
       "    <tr>\n",
       "      <th>9</th>\n",
       "      <td>georgia</td>\n",
       "      <td>10725800</td>\n",
       "    </tr>\n",
       "    <tr>\n",
       "      <th>10</th>\n",
       "      <td>hawaii</td>\n",
       "      <td>1451911</td>\n",
       "    </tr>\n",
       "    <tr>\n",
       "      <th>11</th>\n",
       "      <td>idaho</td>\n",
       "      <td>1847772</td>\n",
       "    </tr>\n",
       "    <tr>\n",
       "      <th>12</th>\n",
       "      <td>illinois</td>\n",
       "      <td>12785245</td>\n",
       "    </tr>\n",
       "    <tr>\n",
       "      <th>13</th>\n",
       "      <td>indiana</td>\n",
       "      <td>6785644</td>\n",
       "    </tr>\n",
       "    <tr>\n",
       "      <th>14</th>\n",
       "      <td>iowa</td>\n",
       "      <td>3188669</td>\n",
       "    </tr>\n",
       "    <tr>\n",
       "      <th>15</th>\n",
       "      <td>kansas</td>\n",
       "      <td>2935880</td>\n",
       "    </tr>\n",
       "    <tr>\n",
       "      <th>16</th>\n",
       "      <td>kentucky</td>\n",
       "      <td>4503958</td>\n",
       "    </tr>\n",
       "    <tr>\n",
       "      <th>17</th>\n",
       "      <td>louisiana</td>\n",
       "      <td>4651203</td>\n",
       "    </tr>\n",
       "    <tr>\n",
       "      <th>18</th>\n",
       "      <td>maine</td>\n",
       "      <td>1362280</td>\n",
       "    </tr>\n",
       "    <tr>\n",
       "      <th>19</th>\n",
       "      <td>maryland</td>\n",
       "      <td>6172679</td>\n",
       "    </tr>\n",
       "    <tr>\n",
       "      <th>20</th>\n",
       "      <td>massachusetts</td>\n",
       "      <td>7022220</td>\n",
       "    </tr>\n",
       "    <tr>\n",
       "      <th>21</th>\n",
       "      <td>michigan</td>\n",
       "      <td>10067664</td>\n",
       "    </tr>\n",
       "    <tr>\n",
       "      <th>22</th>\n",
       "      <td>minnesota</td>\n",
       "      <td>5707165</td>\n",
       "    </tr>\n",
       "    <tr>\n",
       "      <th>23</th>\n",
       "      <td>mississippi</td>\n",
       "      <td>2956870</td>\n",
       "    </tr>\n",
       "    <tr>\n",
       "      <th>24</th>\n",
       "      <td>missouri</td>\n",
       "      <td>6154481</td>\n",
       "    </tr>\n",
       "    <tr>\n",
       "      <th>25</th>\n",
       "      <td>montana</td>\n",
       "      <td>1086193</td>\n",
       "    </tr>\n",
       "    <tr>\n",
       "      <th>26</th>\n",
       "      <td>nebraska</td>\n",
       "      <td>1961455</td>\n",
       "    </tr>\n",
       "    <tr>\n",
       "      <th>27</th>\n",
       "      <td>nevada</td>\n",
       "      <td>3114071</td>\n",
       "    </tr>\n",
       "    <tr>\n",
       "      <th>28</th>\n",
       "      <td>newhampshire</td>\n",
       "      <td>1377848</td>\n",
       "    </tr>\n",
       "    <tr>\n",
       "      <th>29</th>\n",
       "      <td>newjersey</td>\n",
       "      <td>9279743</td>\n",
       "    </tr>\n",
       "    <tr>\n",
       "      <th>30</th>\n",
       "      <td>newmexico</td>\n",
       "      <td>2117566</td>\n",
       "    </tr>\n",
       "    <tr>\n",
       "      <th>31</th>\n",
       "      <td>newyork</td>\n",
       "      <td>20154933</td>\n",
       "    </tr>\n",
       "    <tr>\n",
       "      <th>32</th>\n",
       "      <td>northcarolina</td>\n",
       "      <td>10457177</td>\n",
       "    </tr>\n",
       "    <tr>\n",
       "      <th>33</th>\n",
       "      <td>northdakota</td>\n",
       "      <td>778962</td>\n",
       "    </tr>\n",
       "    <tr>\n",
       "      <th>34</th>\n",
       "      <td>ohio</td>\n",
       "      <td>11790587</td>\n",
       "    </tr>\n",
       "    <tr>\n",
       "      <th>35</th>\n",
       "      <td>oklahoma</td>\n",
       "      <td>3962031</td>\n",
       "    </tr>\n",
       "    <tr>\n",
       "      <th>36</th>\n",
       "      <td>oregon</td>\n",
       "      <td>4241544</td>\n",
       "    </tr>\n",
       "    <tr>\n",
       "      <th>37</th>\n",
       "      <td>pennsylvania</td>\n",
       "      <td>12989625</td>\n",
       "    </tr>\n",
       "    <tr>\n",
       "      <th>38</th>\n",
       "      <td>rhodeisland</td>\n",
       "      <td>1096229</td>\n",
       "    </tr>\n",
       "    <tr>\n",
       "      <th>39</th>\n",
       "      <td>southcarolina</td>\n",
       "      <td>5130729</td>\n",
       "    </tr>\n",
       "    <tr>\n",
       "      <th>40</th>\n",
       "      <td>southdakota</td>\n",
       "      <td>887099</td>\n",
       "    </tr>\n",
       "    <tr>\n",
       "      <th>41</th>\n",
       "      <td>tennessee</td>\n",
       "      <td>6920119</td>\n",
       "    </tr>\n",
       "    <tr>\n",
       "      <th>42</th>\n",
       "      <td>texas</td>\n",
       "      <td>29217653</td>\n",
       "    </tr>\n",
       "    <tr>\n",
       "      <th>43</th>\n",
       "      <td>utah</td>\n",
       "      <td>3281684</td>\n",
       "    </tr>\n",
       "    <tr>\n",
       "      <th>44</th>\n",
       "      <td>vermont</td>\n",
       "      <td>642495</td>\n",
       "    </tr>\n",
       "    <tr>\n",
       "      <th>45</th>\n",
       "      <td>virginia</td>\n",
       "      <td>8632044</td>\n",
       "    </tr>\n",
       "    <tr>\n",
       "      <th>46</th>\n",
       "      <td>washington</td>\n",
       "      <td>7718785</td>\n",
       "    </tr>\n",
       "    <tr>\n",
       "      <th>47</th>\n",
       "      <td>westvirginia</td>\n",
       "      <td>1789798</td>\n",
       "    </tr>\n",
       "    <tr>\n",
       "      <th>48</th>\n",
       "      <td>wisconsin</td>\n",
       "      <td>5892323</td>\n",
       "    </tr>\n",
       "    <tr>\n",
       "      <th>49</th>\n",
       "      <td>wyoming</td>\n",
       "      <td>577267</td>\n",
       "    </tr>\n",
       "  </tbody>\n",
       "</table>\n",
       "</div>"
      ],
      "text/plain": [
       "             NAME  POPESTIMATE2020\n",
       "0         alabama          5024803\n",
       "1          alaska           732441\n",
       "2         arizona          7177986\n",
       "3        arkansas          3012232\n",
       "4      california         39499738\n",
       "5        colorado          5784308\n",
       "6     connecticut          3600260\n",
       "7        delaware           991886\n",
       "8         florida         21569932\n",
       "9         georgia         10725800\n",
       "10         hawaii          1451911\n",
       "11          idaho          1847772\n",
       "12       illinois         12785245\n",
       "13        indiana          6785644\n",
       "14           iowa          3188669\n",
       "15         kansas          2935880\n",
       "16       kentucky          4503958\n",
       "17      louisiana          4651203\n",
       "18          maine          1362280\n",
       "19       maryland          6172679\n",
       "20  massachusetts          7022220\n",
       "21       michigan         10067664\n",
       "22      minnesota          5707165\n",
       "23    mississippi          2956870\n",
       "24       missouri          6154481\n",
       "25        montana          1086193\n",
       "26       nebraska          1961455\n",
       "27         nevada          3114071\n",
       "28   newhampshire          1377848\n",
       "29      newjersey          9279743\n",
       "30      newmexico          2117566\n",
       "31        newyork         20154933\n",
       "32  northcarolina         10457177\n",
       "33    northdakota           778962\n",
       "34           ohio         11790587\n",
       "35       oklahoma          3962031\n",
       "36         oregon          4241544\n",
       "37   pennsylvania         12989625\n",
       "38    rhodeisland          1096229\n",
       "39  southcarolina          5130729\n",
       "40    southdakota           887099\n",
       "41      tennessee          6920119\n",
       "42          texas         29217653\n",
       "43           utah          3281684\n",
       "44        vermont           642495\n",
       "45       virginia          8632044\n",
       "46     washington          7718785\n",
       "47   westvirginia          1789798\n",
       "48      wisconsin          5892323\n",
       "49        wyoming           577267"
      ]
     },
     "execution_count": 4,
     "metadata": {},
     "output_type": "execute_result"
    }
   ],
   "source": [
    "state_pops"
   ]
  },
  {
   "cell_type": "code",
   "execution_count": 5,
   "metadata": {},
   "outputs": [],
   "source": [
    "pop_dict = {state: pop for state, pop in zip(state_pops['NAME'], state_pops['POPESTIMATE2020'])}\n",
    "del state_pops"
   ]
  },
  {
   "cell_type": "code",
   "execution_count": 6,
   "metadata": {},
   "outputs": [],
   "source": [
    "spelling_dict = dict()\n",
    "valid_subsets = dict()\n",
    "\n",
    "for state_name in pop_dict.keys():\n",
    "    valid_subsets[state_name] = set()\n",
    "    # replacing each character with any other alphabet character\n",
    "    for i in range(len(state_name)):\n",
    "        for c in 'abcdefghijklmnopqrstuvwxyz':\n",
    "            altered_name = state_name[:i] + c + state_name[i+1:]\n",
    "            spelling_dict[altered_name] = state_name\n",
    "            \n",
    "            for j in range(1, len(altered_name) + 1):\n",
    "                valid_subsets[state_name].add(altered_name[:j])"
   ]
  },
  {
   "cell_type": "code",
   "execution_count": 7,
   "metadata": {},
   "outputs": [],
   "source": [
    "single_dict = dict()\n",
    "double_dict = dict()\n",
    "triple_dict = dict()\n",
    "quad_dict = dict()\n",
    "\n",
    "for state in pop_dict.keys():\n",
    "    for i in range(len(state)):\n",
    "        # Single character sequences\n",
    "        single = state[i]\n",
    "        single_dict[single] = single_dict.get(single, 0) + 1\n",
    "\n",
    "        # Double character sequences\n",
    "        if i < len(state) - 1:\n",
    "            double = state[i:i+2]\n",
    "            double_dict[double] = double_dict.get(double, 0) + 1\n",
    "\n",
    "        # Triple character sequences\n",
    "        if i < len(state) - 2:\n",
    "            triple = state[i:i+3]\n",
    "            triple_dict[triple] = triple_dict.get(triple, 0) + 1\n",
    "\n",
    "        # Quadruple character sequences\n",
    "        if i < len(state) - 3:\n",
    "            quad = state[i:i+4]\n",
    "            quad_dict[quad] = quad_dict.get(quad, 0) + 1"
   ]
  },
  {
   "cell_type": "code",
   "execution_count": 8,
   "metadata": {},
   "outputs": [],
   "source": [
    "def is_valid_subset(curr_str, covered):\n",
    "    for state, subsets in valid_subsets.items():\n",
    "        if curr_str in subsets and state not in covered:\n",
    "            return True\n",
    "        \n",
    "    return False\n",
    "\n",
    "def get_valid_moves(grid, curr_str, i, j, covered):\n",
    "    dirs = [(1, 1), (1, -1), (-1, 1), (-1, -1), (1, 0), (-1, 0), (0, 1), (0, -1)]\n",
    "    moves = [(i + i_, j + j_) for i_, j_ in dirs if 0 <= i + i_ < len(grid) and 0 <= j + j_ < len(grid[0])]\n",
    "    return [(i, j) for i, j in moves if is_valid_subset(curr_str + grid[i][j], covered)]\n",
    "\n",
    "def get_names(grid, i, j, covered):\n",
    "    \n",
    "    def dfs(curr_i, curr_j, curr_str):\n",
    "        if curr_str in spelling_dict:\n",
    "            covered.add(spelling_dict[curr_str])\n",
    "            return\n",
    "\n",
    "        valid_moves = get_valid_moves(grid, curr_str, curr_i, curr_j, covered)\n",
    "        for next_i, next_j in valid_moves:\n",
    "            dfs(next_i, next_j, curr_str + grid[next_i][next_j])\n",
    "            \n",
    "    dfs(i, j, grid[i][j])\n",
    "    return covered\n",
    "\n",
    "def get_score(grid):\n",
    "    covered = set()\n",
    "    score = 0\n",
    "    for i in range(len(grid)):\n",
    "        for j in range(len(grid[0])):\n",
    "            covered = get_names(grid, i, j, covered)\n",
    "            \n",
    "    for state in covered:\n",
    "        score += pop_dict[state]\n",
    "        \n",
    "    return score, covered"
   ]
  },
  {
   "cell_type": "code",
   "execution_count": 9,
   "metadata": {},
   "outputs": [],
   "source": [
    "grid = [['t', 'h', 'o'],\n",
    "        ['a', 'i', 'n'],\n",
    "        ['e', 's', 'l']]\n",
    "\n",
    "score, states = get_score(grid)"
   ]
  },
  {
   "cell_type": "code",
   "execution_count": 13,
   "metadata": {},
   "outputs": [
    {
     "name": "stdout",
     "output_type": "stream",
     "text": [
      "32,893,957\n",
      "{'illinois', 'utah', 'ohio', 'iowa', 'idaho'}\n"
     ]
    }
   ],
   "source": [
    "# print the score with commas for better readability\n",
    "print(f'{score:,}')\n",
    "print(states)"
   ]
  },
  {
   "cell_type": "code",
   "execution_count": 11,
   "metadata": {},
   "outputs": [
    {
     "name": "stdout",
     "output_type": "stream",
     "text": [
      "[('in', 11), ('ne', 10), ('an', 9), ('or', 8), ('as', 7), ('on', 7), ('ia', 7), ('is', 7), ('la', 6), ('ar', 6), ('na', 6), ('ma', 5), ('da', 5), ('ss', 5), ('mi', 5), ('ta', 5), ('ka', 4), ('ns', 4), ('li', 4), ('ni', 4), ('co', 4), ('nn', 4), ('ut', 4), ('wa', 4), ('ou', 4), ('si', 4), ('hi', 4), ('so', 4), ('ew', 4), ('th', 4), ('al', 3), ('ri', 3), ('sa', 3), ('ca', 3), ('ol', 3), ('lo', 3), ('ic', 3), ('re', 3), ('rg', 3), ('gi', 3), ('ah', 3), ('ho', 3), ('no', 3), ('nd', 3), ('en', 3), ('nt', 3), ('se', 3), ('es', 3), ('ot', 3), ('ir', 3), ('am', 2), ('sk', 2), ('rk', 2), ('ra', 2), ('ad', 2), ('de', 2), ('aw', 2), ('id', 2), ('ha', 2), ('ai', 2), ('io', 2), ('yl', 2), ('ch', 2), ('mo', 2), ('va', 2), ('sh', 2), ('er', 2), ('ex', 2), ('wy', 2), ('yo', 2), ('rt', 2), ('hc', 2), ('ro', 2), ('hd', 2), ('ak', 2), ('ko', 2), ('om', 2), ('te', 2), ('vi', 2), ('ng', 2), ('ab', 1), ('ba', 1), ('iz', 1), ('zo', 1), ('if', 1), ('fo', 1), ('rn', 1), ('do', 1), ('ec', 1), ('ct', 1), ('ti', 1), ('cu', 1), ('el', 1), ('fl', 1), ('ge', 1), ('eo', 1), ('ii', 1), ('il', 1), ('ll', 1), ('oi', 1), ('di', 1), ('ow', 1), ('ke', 1), ('tu', 1), ('uc', 1), ('ck', 1), ('ky', 1), ('ui', 1), ('ry', 1), ('ac', 1), ('hu', 1), ('us', 1), ('et', 1), ('tt', 1), ('ts', 1), ('ig', 1), ('ga', 1), ('ip', 1), ('pp', 1), ('pi', 1), ('ur', 1), ('eb', 1), ('br', 1), ('ev', 1), ('wh', 1), ('mp', 1), ('ps', 1), ('wj', 1), ('je', 1), ('rs', 1), ('ey', 1), ('wm', 1), ('me', 1), ('xi', 1), ('oh', 1), ('ok', 1), ('kl', 1), ('eg', 1), ('go', 1), ('pe', 1), ('sy', 1), ('lv', 1), ('rh', 1), ('od', 1), ('ei', 1), ('sl', 1), ('ee', 1), ('xa', 1), ('ve', 1), ('rm', 1), ('gt', 1), ('to', 1), ('we', 1), ('st', 1), ('tv', 1), ('wi', 1), ('sc', 1)]\n"
     ]
    }
   ],
   "source": [
    "print(sorted(double_dict.items(), key=lambda x: x[1], reverse=True))"
   ]
  },
  {
   "cell_type": "code",
   "execution_count": 14,
   "metadata": {},
   "outputs": [
    {
     "name": "stdout",
     "output_type": "stream",
     "text": [
      "[('a', 61), ('i', 44), ('n', 43), ('o', 36), ('s', 32), ('e', 28), ('r', 22), ('t', 19), ('l', 15), ('h', 15), ('m', 14), ('c', 12), ('d', 11), ('w', 11), ('k', 10), ('u', 8), ('g', 8), ('y', 6), ('v', 5), ('p', 4), ('b', 2), ('f', 2), ('x', 2), ('z', 1), ('j', 1)]\n"
     ]
    }
   ],
   "source": [
    "print(sorted(single_dict.items(), key=lambda x: x[1], reverse=True))"
   ]
  },
  {
   "cell_type": "code",
   "execution_count": 344,
   "metadata": {},
   "outputs": [
    {
     "name": "stdout",
     "output_type": "stream",
     "text": [
      "181,551,940\n"
     ]
    },
    {
     "data": {
      "text/plain": [
       "(None,\n",
       " {'alabama',\n",
       "  'california',\n",
       "  'florida',\n",
       "  'georgia',\n",
       "  'illinois',\n",
       "  'indiana',\n",
       "  'iowa',\n",
       "  'kansas',\n",
       "  'kentucky',\n",
       "  'louisiana',\n",
       "  'maine',\n",
       "  'nevada',\n",
       "  'newyork',\n",
       "  'ohio',\n",
       "  'oregon',\n",
       "  'texas'},\n",
       " 16)"
      ]
     },
     "execution_count": 344,
     "metadata": {},
     "output_type": "execute_result"
    }
   ],
   "source": [
    "grid = [['g', 'b', 'c', 'd', 'h'],\n",
    "        ['h', 'm', 'a', 'i', 'f'],\n",
    "        ['q', 'e', 'n', 'o', 'l'],\n",
    "        ['x', 't', 'w', 'r', 'y'],\n",
    "        ['s', 'u', 'v', 'k', 'j']]\n",
    "\n",
    "score1, states1 = get_score(grid)\n",
    "\n",
    "grid = [['b', 'c', 's', 'm', 'a'],\n",
    "        ['s', 'a', 'i', 'l', 'p'],\n",
    "        ['d', 'n', 'o', 'f', 'h'],\n",
    "        ['t', 'e', 'r', 'y', 'x'],\n",
    "        ['u', 'g', 'k', 'j', 'w']]\n",
    "\n",
    "score, states = get_score(grid)\n",
    "print(f'{score:,}'), states, len(states)"
   ]
  },
  {
   "cell_type": "code",
   "execution_count": 327,
   "metadata": {},
   "outputs": [
    {
     "data": {
      "text/plain": [
       "19"
      ]
     },
     "execution_count": 327,
     "metadata": {},
     "output_type": "execute_result"
    }
   ],
   "source": [
    "len(states1)"
   ]
  },
  {
   "cell_type": "code",
   "execution_count": 213,
   "metadata": {},
   "outputs": [
    {
     "name": "stdout",
     "output_type": "stream",
     "text": [
      "[('california', 39499738), ('texas', 29217653), ('florida', 21569932), ('newyork', 20154933), ('pennsylvania', 12989625), ('illinois', 12785245), ('ohio', 11790587), ('georgia', 10725800), ('northcarolina', 10457177), ('michigan', 10067664), ('newjersey', 9279743), ('virginia', 8632044), ('washington', 7718785), ('arizona', 7177986), ('massachusetts', 7022220), ('tennessee', 6920119), ('indiana', 6785644), ('maryland', 6172679), ('missouri', 6154481), ('wisconsin', 5892323), ('colorado', 5784308), ('minnesota', 5707165), ('southcarolina', 5130729), ('alabama', 5024803), ('louisiana', 4651203), ('kentucky', 4503958), ('oregon', 4241544), ('oklahoma', 3962031), ('connecticut', 3600260), ('utah', 3281684), ('iowa', 3188669), ('nevada', 3114071), ('arkansas', 3012232), ('mississippi', 2956870), ('kansas', 2935880), ('newmexico', 2117566), ('nebraska', 1961455), ('idaho', 1847772), ('westvirginia', 1789798), ('hawaii', 1451911), ('newhampshire', 1377848), ('maine', 1362280), ('rhodeisland', 1096229), ('montana', 1086193), ('delaware', 991886), ('southdakota', 887099), ('northdakota', 778962), ('alaska', 732441), ('vermont', 642495), ('wyoming', 577267)]\n"
     ]
    }
   ],
   "source": [
    "print(sorted(pop_dict.items(), key=lambda x: x[1], reverse=True))"
   ]
  },
  {
   "cell_type": "code",
   "execution_count": 376,
   "metadata": {},
   "outputs": [
    {
     "name": "stdout",
     "output_type": "stream",
     "text": [
      "142,595,854\n"
     ]
    },
    {
     "data": {
      "text/plain": [
       "(None,\n",
       " {'alaska',\n",
       "  'arizona',\n",
       "  'arkansas',\n",
       "  'florida',\n",
       "  'illinois',\n",
       "  'indiana',\n",
       "  'iowa',\n",
       "  'kansas',\n",
       "  'louisiana',\n",
       "  'maine',\n",
       "  'newyork',\n",
       "  'ohio',\n",
       "  'oregon',\n",
       "  'pennsylvania',\n",
       "  'texas'},\n",
       " 15)"
      ]
     },
     "execution_count": 376,
     "metadata": {},
     "output_type": "execute_result"
    }
   ],
   "source": [
    "grid = [['m', 'i', 's', 'f', 'i'],\n",
    "        ['a', 'n', 'y', 'l', 'v'],\n",
    "        ['e', 'n', 'o', 'a', 'o'],\n",
    "        ['p', 'a', 'i', 'r', 's'],\n",
    "        ['u', 's', 'k', 'e', 't']]\n",
    "\n",
    "\n",
    "score, states = get_score(grid)\n",
    "print(f'{score:,}'), states, len(states)"
   ]
  },
  {
   "cell_type": "code",
   "execution_count": 359,
   "metadata": {},
   "outputs": [
    {
     "data": {
      "text/plain": [
       "set()"
      ]
     },
     "execution_count": 359,
     "metadata": {},
     "output_type": "execute_result"
    }
   ],
   "source": [
    "states1 - states"
   ]
  },
  {
   "cell_type": "code",
   "execution_count": null,
   "metadata": {},
   "outputs": [],
   "source": []
  }
 ],
 "metadata": {
  "kernelspec": {
   "display_name": "Python 3",
   "language": "python",
   "name": "python3"
  },
  "language_info": {
   "codemirror_mode": {
    "name": "ipython",
    "version": 3
   },
   "file_extension": ".py",
   "mimetype": "text/x-python",
   "name": "python",
   "nbconvert_exporter": "python",
   "pygments_lexer": "ipython3",
   "version": "3.7.0"
  }
 },
 "nbformat": 4,
 "nbformat_minor": 2
}
